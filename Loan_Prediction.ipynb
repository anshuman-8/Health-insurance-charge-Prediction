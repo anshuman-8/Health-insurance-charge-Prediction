{
  "nbformat": 4,
  "nbformat_minor": 0,
  "metadata": {
    "colab": {
      "name": "Loan Prediction.ipynb",
      "provenance": [],
      "collapsed_sections": [],
      "include_colab_link": true
    },
    "kernelspec": {
      "name": "python3",
      "display_name": "Python 3"
    },
    "language_info": {
      "name": "python"
    }
  },
  "cells": [
    {
      "cell_type": "markdown",
      "metadata": {
        "id": "view-in-github",
        "colab_type": "text"
      },
      "source": [
        "<a href=\"https://colab.research.google.com/github/anshuman-8/Loan-Prediction/blob/main/Loan_Prediction.ipynb\" target=\"_parent\"><img src=\"https://colab.research.google.com/assets/colab-badge.svg\" alt=\"Open In Colab\"/></a>"
      ]
    },
    {
      "cell_type": "markdown",
      "source": [
        "# Loan Approval Prediction\n"
      ],
      "metadata": {
        "id": "sdGp1iyABl_t"
      }
    },
    {
      "cell_type": "markdown",
      "source": [
        "Importing all modules"
      ],
      "metadata": {
        "id": "SxB0CvNggtxx"
      }
    },
    {
      "cell_type": "code",
      "execution_count": 406,
      "metadata": {
        "id": "bLARTjPGbNgY"
      },
      "outputs": [],
      "source": [
        "import pandas as pd\n",
        "import numpy as np\n",
        "import seaborn as sns\n",
        "import matplotlib.pyplot as plt\n",
        "from sklearn import datasets, linear_model\n",
        "%matplotlib inline\n",
        "from sklearn.metrics import mean_squared_error\n",
        "import math"
      ]
    },
    {
      "cell_type": "markdown",
      "source": [
        "Getting and displaying Dataset"
      ],
      "metadata": {
        "id": "hURaW40tgzAE"
      }
    },
    {
      "cell_type": "code",
      "source": [
        "Loan_data = pd.read_csv(\"/content/df1_loan.csv\")\n",
        "# Loan_data=datasets.loan_dataset.csv\n",
        "Loan_data.head()\n",
        "Loan_data.shape"
      ],
      "metadata": {
        "colab": {
          "base_uri": "https://localhost:8080/"
        },
        "id": "5yV_4Fn8a4Co",
        "outputId": "5807784f-3645-4c69-ba0f-b8cc27a412d1"
      },
      "execution_count": 407,
      "outputs": [
        {
          "output_type": "execute_result",
          "data": {
            "text/plain": [
              "(500, 15)"
            ]
          },
          "metadata": {},
          "execution_count": 407
        }
      ]
    },
    {
      "cell_type": "code",
      "source": [
        "test_data = pd.read_csv(\"/content/loan_dataset.csv\")\n",
        "# Loan_data=datasets.loan_dataset.csv\n",
        "test_data.head()\n",
        "test_data.shape"
      ],
      "metadata": {
        "colab": {
          "base_uri": "https://localhost:8080/"
        },
        "id": "MPPujC3uW9Uf",
        "outputId": "444814ae-6abf-4002-dfce-54c87483477f"
      },
      "execution_count": 408,
      "outputs": [
        {
          "output_type": "execute_result",
          "data": {
            "text/plain": [
              "(367, 12)"
            ]
          },
          "metadata": {},
          "execution_count": 408
        }
      ]
    },
    {
      "cell_type": "code",
      "source": [
        "print(Loan_data.keys())"
      ],
      "metadata": {
        "colab": {
          "base_uri": "https://localhost:8080/"
        },
        "id": "x6zE2lrIufCI",
        "outputId": "8c46435d-e43b-4f0a-8a9b-6e784024b1f9"
      },
      "execution_count": 409,
      "outputs": [
        {
          "output_type": "stream",
          "name": "stdout",
          "text": [
            "Index(['Unnamed: 0', 'Loan_ID', 'Gender', 'Married', 'Dependents', 'Education',\n",
            "       'Self_Employed', 'ApplicantIncome', 'CoapplicantIncome', 'LoanAmount',\n",
            "       'Loan_Amount_Term', 'Credit_History', 'Property_Area', 'Loan_Status',\n",
            "       'Total_Income'],\n",
            "      dtype='object')\n"
          ]
        }
      ]
    },
    {
      "cell_type": "markdown",
      "source": [
        "Columns with number of empty cells"
      ],
      "metadata": {
        "id": "gdAbO0xfg8xo"
      }
    },
    {
      "cell_type": "code",
      "source": [
        "Loan_data.isnull().sum()"
      ],
      "metadata": {
        "colab": {
          "base_uri": "https://localhost:8080/"
        },
        "id": "OkcYAqhIfOVc",
        "outputId": "02483f89-88a6-4e76-866f-d6271389a24b"
      },
      "execution_count": 410,
      "outputs": [
        {
          "output_type": "execute_result",
          "data": {
            "text/plain": [
              "Unnamed: 0            0\n",
              "Loan_ID               0\n",
              "Gender                9\n",
              "Married               3\n",
              "Dependents           12\n",
              "Education             0\n",
              "Self_Employed        27\n",
              "ApplicantIncome       0\n",
              "CoapplicantIncome     0\n",
              "LoanAmount           18\n",
              "Loan_Amount_Term     14\n",
              "Credit_History       41\n",
              "Property_Area         0\n",
              "Loan_Status           0\n",
              "Total_Income          0\n",
              "dtype: int64"
            ]
          },
          "metadata": {},
          "execution_count": 410
        }
      ]
    },
    {
      "cell_type": "code",
      "source": [
        "Loan_data['LoanAmount'] = Loan_data['LoanAmount'].fillna(Loan_data['LoanAmount'].mean())\n",
        "Loan_data['Loan_Amount_Term'] = Loan_data['Loan_Amount_Term'].fillna(Loan_data['Loan_Amount_Term'].mean())\n",
        "Loan_data['Credit_History'] = Loan_data['Credit_History'].fillna(Loan_data['Credit_History'].mean())"
      ],
      "metadata": {
        "id": "x6BY_MQe7jUs"
      },
      "execution_count": 411,
      "outputs": []
    },
    {
      "cell_type": "code",
      "source": [
        "Loan_data['Gender'] = Loan_data[\"Gender\"].fillna(Loan_data['Gender'].mode()[0])\n",
        "Loan_data['Married'] = Loan_data[\"Married\"].fillna(Loan_data['Married'].mode()[0])\n",
        "Loan_data['Dependents'] = Loan_data[\"Dependents\"].fillna(Loan_data['Dependents'].mode()[0])\n",
        "Loan_data['Self_Employed'] = Loan_data[\"Self_Employed\"].fillna(Loan_data['Self_Employed'].mode()[0])"
      ],
      "metadata": {
        "id": "c1BEhQJn7szK"
      },
      "execution_count": 412,
      "outputs": []
    },
    {
      "cell_type": "code",
      "source": [
        "Loan_data.isnull().sum()"
      ],
      "metadata": {
        "colab": {
          "base_uri": "https://localhost:8080/"
        },
        "id": "3zcyA9xPgnCp",
        "outputId": "87b01147-0e3e-4df9-da71-46a2c51a7dde"
      },
      "execution_count": 413,
      "outputs": [
        {
          "output_type": "execute_result",
          "data": {
            "text/plain": [
              "Unnamed: 0           0\n",
              "Loan_ID              0\n",
              "Gender               0\n",
              "Married              0\n",
              "Dependents           0\n",
              "Education            0\n",
              "Self_Employed        0\n",
              "ApplicantIncome      0\n",
              "CoapplicantIncome    0\n",
              "LoanAmount           0\n",
              "Loan_Amount_Term     0\n",
              "Credit_History       0\n",
              "Property_Area        0\n",
              "Loan_Status          0\n",
              "Total_Income         0\n",
              "dtype: int64"
            ]
          },
          "metadata": {},
          "execution_count": 413
        }
      ]
    },
    {
      "cell_type": "code",
      "source": [
        "test_data.isnull().sum()"
      ],
      "metadata": {
        "colab": {
          "base_uri": "https://localhost:8080/"
        },
        "id": "OG8NQSL-cqL1",
        "outputId": "9faadf37-7c16-4c27-eeca-8ba369d8e2dd"
      },
      "execution_count": 414,
      "outputs": [
        {
          "output_type": "execute_result",
          "data": {
            "text/plain": [
              "Loan_ID               0\n",
              "Gender               11\n",
              "Married               0\n",
              "Dependents           10\n",
              "Education             0\n",
              "Self_Employed        23\n",
              "ApplicantIncome       0\n",
              "CoapplicantIncome     0\n",
              "LoanAmount            5\n",
              "Loan_Amount_Term      6\n",
              "Credit_History       29\n",
              "Property_Area         0\n",
              "dtype: int64"
            ]
          },
          "metadata": {},
          "execution_count": 414
        }
      ]
    },
    {
      "cell_type": "code",
      "source": [
        "test_data['LoanAmount'] = test_data['LoanAmount'].fillna(test_data['LoanAmount'].mean())\n",
        "test_data['Loan_Amount_Term'] = test_data['Loan_Amount_Term'].fillna(test_data['Loan_Amount_Term'].mean())\n",
        "test_data['Credit_History'] = test_data['Credit_History'].fillna(test_data['Credit_History'].mean())"
      ],
      "metadata": {
        "id": "2EQsE7vxcq96"
      },
      "execution_count": 415,
      "outputs": []
    },
    {
      "cell_type": "code",
      "source": [
        "test_data['Gender'] = test_data[\"Gender\"].fillna(test_data['Gender'].mode()[0])\n",
        "test_data['Dependents'] = test_data[\"Dependents\"].fillna(test_data['Dependents'].mode()[0])\n",
        "test_data['Self_Employed'] = test_data[\"Self_Employed\"].fillna(test_data['Self_Employed'].mode()[0])"
      ],
      "metadata": {
        "id": "iRTEhyTdcq97"
      },
      "execution_count": 416,
      "outputs": []
    },
    {
      "cell_type": "code",
      "source": [
        "Loan_data['Total_Income'] = Loan_data['ApplicantIncome'] + Loan_data['CoapplicantIncome']\n",
        "test_data['Total_Income'] = test_data['ApplicantIncome'] + test_data['CoapplicantIncome']"
      ],
      "metadata": {
        "id": "3ItsK2mN88YP"
      },
      "execution_count": 417,
      "outputs": []
    },
    {
      "cell_type": "code",
      "source": [
        "Loan_data.head()"
      ],
      "metadata": {
        "colab": {
          "base_uri": "https://localhost:8080/",
          "height": 305
        },
        "id": "tubJWTkb89iq",
        "outputId": "f6bcb805-cc8e-4d4d-9f69-3a5720434e14"
      },
      "execution_count": 418,
      "outputs": [
        {
          "output_type": "execute_result",
          "data": {
            "text/html": [
              "\n",
              "  <div id=\"df-ce280d11-0db5-4bcc-8b95-1c966d2a1633\">\n",
              "    <div class=\"colab-df-container\">\n",
              "      <div>\n",
              "<style scoped>\n",
              "    .dataframe tbody tr th:only-of-type {\n",
              "        vertical-align: middle;\n",
              "    }\n",
              "\n",
              "    .dataframe tbody tr th {\n",
              "        vertical-align: top;\n",
              "    }\n",
              "\n",
              "    .dataframe thead th {\n",
              "        text-align: right;\n",
              "    }\n",
              "</style>\n",
              "<table border=\"1\" class=\"dataframe\">\n",
              "  <thead>\n",
              "    <tr style=\"text-align: right;\">\n",
              "      <th></th>\n",
              "      <th>Unnamed: 0</th>\n",
              "      <th>Loan_ID</th>\n",
              "      <th>Gender</th>\n",
              "      <th>Married</th>\n",
              "      <th>Dependents</th>\n",
              "      <th>Education</th>\n",
              "      <th>Self_Employed</th>\n",
              "      <th>ApplicantIncome</th>\n",
              "      <th>CoapplicantIncome</th>\n",
              "      <th>LoanAmount</th>\n",
              "      <th>Loan_Amount_Term</th>\n",
              "      <th>Credit_History</th>\n",
              "      <th>Property_Area</th>\n",
              "      <th>Loan_Status</th>\n",
              "      <th>Total_Income</th>\n",
              "    </tr>\n",
              "  </thead>\n",
              "  <tbody>\n",
              "    <tr>\n",
              "      <th>0</th>\n",
              "      <td>0</td>\n",
              "      <td>LP001002</td>\n",
              "      <td>Male</td>\n",
              "      <td>No</td>\n",
              "      <td>0</td>\n",
              "      <td>Graduate</td>\n",
              "      <td>No</td>\n",
              "      <td>5849</td>\n",
              "      <td>0.0</td>\n",
              "      <td>144.020747</td>\n",
              "      <td>360.0</td>\n",
              "      <td>1.0</td>\n",
              "      <td>Urban</td>\n",
              "      <td>Y</td>\n",
              "      <td>5849.0</td>\n",
              "    </tr>\n",
              "    <tr>\n",
              "      <th>1</th>\n",
              "      <td>1</td>\n",
              "      <td>LP001003</td>\n",
              "      <td>Male</td>\n",
              "      <td>Yes</td>\n",
              "      <td>1</td>\n",
              "      <td>Graduate</td>\n",
              "      <td>No</td>\n",
              "      <td>4583</td>\n",
              "      <td>1508.0</td>\n",
              "      <td>128.000000</td>\n",
              "      <td>360.0</td>\n",
              "      <td>1.0</td>\n",
              "      <td>Rural</td>\n",
              "      <td>N</td>\n",
              "      <td>6091.0</td>\n",
              "    </tr>\n",
              "    <tr>\n",
              "      <th>2</th>\n",
              "      <td>2</td>\n",
              "      <td>LP001005</td>\n",
              "      <td>Male</td>\n",
              "      <td>Yes</td>\n",
              "      <td>0</td>\n",
              "      <td>Graduate</td>\n",
              "      <td>Yes</td>\n",
              "      <td>3000</td>\n",
              "      <td>0.0</td>\n",
              "      <td>66.000000</td>\n",
              "      <td>360.0</td>\n",
              "      <td>1.0</td>\n",
              "      <td>Urban</td>\n",
              "      <td>Y</td>\n",
              "      <td>3000.0</td>\n",
              "    </tr>\n",
              "    <tr>\n",
              "      <th>3</th>\n",
              "      <td>3</td>\n",
              "      <td>LP001006</td>\n",
              "      <td>Male</td>\n",
              "      <td>Yes</td>\n",
              "      <td>0</td>\n",
              "      <td>Not Graduate</td>\n",
              "      <td>No</td>\n",
              "      <td>2583</td>\n",
              "      <td>2358.0</td>\n",
              "      <td>120.000000</td>\n",
              "      <td>360.0</td>\n",
              "      <td>1.0</td>\n",
              "      <td>Urban</td>\n",
              "      <td>Y</td>\n",
              "      <td>4941.0</td>\n",
              "    </tr>\n",
              "    <tr>\n",
              "      <th>4</th>\n",
              "      <td>4</td>\n",
              "      <td>LP001008</td>\n",
              "      <td>Male</td>\n",
              "      <td>No</td>\n",
              "      <td>0</td>\n",
              "      <td>Graduate</td>\n",
              "      <td>No</td>\n",
              "      <td>6000</td>\n",
              "      <td>0.0</td>\n",
              "      <td>141.000000</td>\n",
              "      <td>360.0</td>\n",
              "      <td>1.0</td>\n",
              "      <td>Urban</td>\n",
              "      <td>Y</td>\n",
              "      <td>6000.0</td>\n",
              "    </tr>\n",
              "  </tbody>\n",
              "</table>\n",
              "</div>\n",
              "      <button class=\"colab-df-convert\" onclick=\"convertToInteractive('df-ce280d11-0db5-4bcc-8b95-1c966d2a1633')\"\n",
              "              title=\"Convert this dataframe to an interactive table.\"\n",
              "              style=\"display:none;\">\n",
              "        \n",
              "  <svg xmlns=\"http://www.w3.org/2000/svg\" height=\"24px\"viewBox=\"0 0 24 24\"\n",
              "       width=\"24px\">\n",
              "    <path d=\"M0 0h24v24H0V0z\" fill=\"none\"/>\n",
              "    <path d=\"M18.56 5.44l.94 2.06.94-2.06 2.06-.94-2.06-.94-.94-2.06-.94 2.06-2.06.94zm-11 1L8.5 8.5l.94-2.06 2.06-.94-2.06-.94L8.5 2.5l-.94 2.06-2.06.94zm10 10l.94 2.06.94-2.06 2.06-.94-2.06-.94-.94-2.06-.94 2.06-2.06.94z\"/><path d=\"M17.41 7.96l-1.37-1.37c-.4-.4-.92-.59-1.43-.59-.52 0-1.04.2-1.43.59L10.3 9.45l-7.72 7.72c-.78.78-.78 2.05 0 2.83L4 21.41c.39.39.9.59 1.41.59.51 0 1.02-.2 1.41-.59l7.78-7.78 2.81-2.81c.8-.78.8-2.07 0-2.86zM5.41 20L4 18.59l7.72-7.72 1.47 1.35L5.41 20z\"/>\n",
              "  </svg>\n",
              "      </button>\n",
              "      \n",
              "  <style>\n",
              "    .colab-df-container {\n",
              "      display:flex;\n",
              "      flex-wrap:wrap;\n",
              "      gap: 12px;\n",
              "    }\n",
              "\n",
              "    .colab-df-convert {\n",
              "      background-color: #E8F0FE;\n",
              "      border: none;\n",
              "      border-radius: 50%;\n",
              "      cursor: pointer;\n",
              "      display: none;\n",
              "      fill: #1967D2;\n",
              "      height: 32px;\n",
              "      padding: 0 0 0 0;\n",
              "      width: 32px;\n",
              "    }\n",
              "\n",
              "    .colab-df-convert:hover {\n",
              "      background-color: #E2EBFA;\n",
              "      box-shadow: 0px 1px 2px rgba(60, 64, 67, 0.3), 0px 1px 3px 1px rgba(60, 64, 67, 0.15);\n",
              "      fill: #174EA6;\n",
              "    }\n",
              "\n",
              "    [theme=dark] .colab-df-convert {\n",
              "      background-color: #3B4455;\n",
              "      fill: #D2E3FC;\n",
              "    }\n",
              "\n",
              "    [theme=dark] .colab-df-convert:hover {\n",
              "      background-color: #434B5C;\n",
              "      box-shadow: 0px 1px 3px 1px rgba(0, 0, 0, 0.15);\n",
              "      filter: drop-shadow(0px 1px 2px rgba(0, 0, 0, 0.3));\n",
              "      fill: #FFFFFF;\n",
              "    }\n",
              "  </style>\n",
              "\n",
              "      <script>\n",
              "        const buttonEl =\n",
              "          document.querySelector('#df-ce280d11-0db5-4bcc-8b95-1c966d2a1633 button.colab-df-convert');\n",
              "        buttonEl.style.display =\n",
              "          google.colab.kernel.accessAllowed ? 'block' : 'none';\n",
              "\n",
              "        async function convertToInteractive(key) {\n",
              "          const element = document.querySelector('#df-ce280d11-0db5-4bcc-8b95-1c966d2a1633');\n",
              "          const dataTable =\n",
              "            await google.colab.kernel.invokeFunction('convertToInteractive',\n",
              "                                                     [key], {});\n",
              "          if (!dataTable) return;\n",
              "\n",
              "          const docLinkHtml = 'Like what you see? Visit the ' +\n",
              "            '<a target=\"_blank\" href=https://colab.research.google.com/notebooks/data_table.ipynb>data table notebook</a>'\n",
              "            + ' to learn more about interactive tables.';\n",
              "          element.innerHTML = '';\n",
              "          dataTable['output_type'] = 'display_data';\n",
              "          await google.colab.output.renderOutput(dataTable, element);\n",
              "          const docLink = document.createElement('div');\n",
              "          docLink.innerHTML = docLinkHtml;\n",
              "          element.appendChild(docLink);\n",
              "        }\n",
              "      </script>\n",
              "    </div>\n",
              "  </div>\n",
              "  "
            ],
            "text/plain": [
              "   Unnamed: 0   Loan_ID Gender  ... Property_Area Loan_Status Total_Income\n",
              "0           0  LP001002   Male  ...         Urban           Y       5849.0\n",
              "1           1  LP001003   Male  ...         Rural           N       6091.0\n",
              "2           2  LP001005   Male  ...         Urban           Y       3000.0\n",
              "3           3  LP001006   Male  ...         Urban           Y       4941.0\n",
              "4           4  LP001008   Male  ...         Urban           Y       6000.0\n",
              "\n",
              "[5 rows x 15 columns]"
            ]
          },
          "metadata": {},
          "execution_count": 418
        }
      ]
    },
    {
      "cell_type": "code",
      "source": [
        "Loan_data['Total_Income_Log'] = np.log(Loan_data['Total_Income']+1)\n",
        "sns.distplot(Loan_data[\"Total_Income_Log\"])\n",
        "\n",
        "test_data['Total_Income_Log'] = np.log(test_data['Total_Income']+1)\n",
        "sns.distplot(test_data[\"Total_Income_Log\"])"
      ],
      "metadata": {
        "colab": {
          "base_uri": "https://localhost:8080/",
          "height": 391
        },
        "id": "aoA2eHMZ9hyl",
        "outputId": "0ea61537-766e-45a7-d075-0c03c3e94c63"
      },
      "execution_count": 419,
      "outputs": [
        {
          "output_type": "stream",
          "name": "stderr",
          "text": [
            "/usr/local/lib/python3.7/dist-packages/seaborn/distributions.py:2619: FutureWarning: `distplot` is a deprecated function and will be removed in a future version. Please adapt your code to use either `displot` (a figure-level function with similar flexibility) or `histplot` (an axes-level function for histograms).\n",
            "  warnings.warn(msg, FutureWarning)\n",
            "/usr/local/lib/python3.7/dist-packages/seaborn/distributions.py:2619: FutureWarning: `distplot` is a deprecated function and will be removed in a future version. Please adapt your code to use either `displot` (a figure-level function with similar flexibility) or `histplot` (an axes-level function for histograms).\n",
            "  warnings.warn(msg, FutureWarning)\n"
          ]
        },
        {
          "output_type": "execute_result",
          "data": {
            "text/plain": [
              "<matplotlib.axes._subplots.AxesSubplot at 0x7fb8878ba310>"
            ]
          },
          "metadata": {},
          "execution_count": 419
        },
        {
          "output_type": "display_data",
          "data": {
            "image/png": "[encoded data removed]",
            "text/plain": [
              "<Figure size 432x288 with 1 Axes>"
            ]
          },
          "metadata": {
            "needs_background": "light"
          }
        }
      ]
    },
    {
      "cell_type": "code",
      "source": [
        "Loan_data['Loan_Term_Log'] = np.log(Loan_data['Loan_Amount_Term']+1)\n",
        "sns.distplot(Loan_data[\"Loan_Term_Log\"])\n",
        "\n",
        "test_data['Loan_Term_Log'] = np.log(test_data['Loan_Amount_Term']+1)\n",
        "sns.distplot(test_data[\"Loan_Term_Log\"])"
      ],
      "metadata": {
        "colab": {
          "base_uri": "https://localhost:8080/",
          "height": 387
        },
        "id": "wokywHbI97X3",
        "outputId": "2ee2ca0b-cf46-4269-a82f-340417498968"
      },
      "execution_count": 420,
      "outputs": [
        {
          "output_type": "stream",
          "name": "stderr",
          "text": [
            "/usr/local/lib/python3.7/dist-packages/seaborn/distributions.py:2619: FutureWarning: `distplot` is a deprecated function and will be removed in a future version. Please adapt your code to use either `displot` (a figure-level function with similar flexibility) or `histplot` (an axes-level function for histograms).\n",
            "  warnings.warn(msg, FutureWarning)\n",
            "/usr/local/lib/python3.7/dist-packages/seaborn/distributions.py:2619: FutureWarning: `distplot` is a deprecated function and will be removed in a future version. Please adapt your code to use either `displot` (a figure-level function with similar flexibility) or `histplot` (an axes-level function for histograms).\n",
            "  warnings.warn(msg, FutureWarning)\n"
          ]
        },
        {
          "output_type": "execute_result",
          "data": {
            "text/plain": [
              "<matplotlib.axes._subplots.AxesSubplot at 0x7fb886932190>"
            ]
          },
          "metadata": {},
          "execution_count": 420
        },
        {
          "output_type": "display_data",
          "data": {
            "image/png": "[encoded data removed]",
            "text/plain": [
              "<Figure size 432x288 with 1 Axes>"
            ]
          },
          "metadata": {
            "needs_background": "light"
          }
        }
      ]
    },
    {
      "cell_type": "code",
      "source": [
        "col=['Loan_ID','ApplicantIncome','CoapplicantIncome']\n",
        "for c in col:\n",
        "  del test_data[c]\n",
        "  del Loan_data[c]\n",
        "\n",
        "from sklearn.preprocessing import LabelEncoder\n",
        "cols = ['Gender',\"Married\",\"Education\",'Self_Employed',\"Property_Area\",\"Dependents\"]\n",
        "le = LabelEncoder()\n",
        "for col in cols:\n",
        "    Loan_data[col] = le.fit_transform(Loan_data[col])\n",
        "print(Loan_data.head(10))"
      ],
      "metadata": {
        "colab": {
          "base_uri": "https://localhost:8080/"
        },
        "id": "hlkyRuuGN1CO",
        "outputId": "8a5332f1-657b-4aad-8c1b-11265aebd0aa"
      },
      "execution_count": 421,
      "outputs": [
        {
          "output_type": "stream",
          "name": "stdout",
          "text": [
            "   Unnamed: 0  Gender  Married  ...  Total_Income  Total_Income_Log  Loan_Term_Log\n",
            "0           0       1        0  ...        5849.0          8.674197       5.888878\n",
            "1           1       1        1  ...        6091.0          8.714732       5.888878\n",
            "2           2       1        1  ...        3000.0          8.006701       5.888878\n",
            "3           3       1        1  ...        4941.0          8.505525       5.888878\n",
            "4           4       1        0  ...        6000.0          8.699681       5.888878\n",
            "5           5       1        1  ...        9613.0          9.170976       5.888878\n",
            "6           6       1        1  ...        3849.0          8.255828       5.888878\n",
            "7           7       1        1  ...        5540.0          8.619930       5.888878\n",
            "8           8       1        1  ...        5532.0          8.618485       5.888878\n",
            "9           9       1        1  ...       23809.0         10.077861       5.888878\n",
            "\n",
            "[10 rows x 14 columns]\n"
          ]
        }
      ]
    },
    {
      "cell_type": "code",
      "source": [
        "from sklearn.preprocessing import LabelEncoder\n",
        "cols = ['Gender',\"Married\",\"Education\",'Self_Employed',\"Property_Area\",\"Dependents\"]\n",
        "le = LabelEncoder()\n",
        "for col in cols:\n",
        "    test_data[col] = le.fit_transform(test_data[col])\n",
        "print(test_data.head(10))"
      ],
      "metadata": {
        "colab": {
          "base_uri": "https://localhost:8080/"
        },
        "id": "pUpOFSiBe7Cq",
        "outputId": "777ce66b-eb70-430d-bd15-4f285c95b3ce"
      },
      "execution_count": 422,
      "outputs": [
        {
          "output_type": "stream",
          "name": "stdout",
          "text": [
            "   Gender  Married  Dependents  ...  Total_Income  Total_Income_Log  Loan_Term_Log\n",
            "0       1        1           0  ...          5720          8.651899       5.888878\n",
            "1       1        1           1  ...          4576          8.428799       5.888878\n",
            "2       1        1           2  ...          6800          8.824825       5.888878\n",
            "3       1        1           2  ...          4886          8.494334       5.888878\n",
            "4       1        0           0  ...          3276          8.094684       5.888878\n",
            "5       1        1           0  ...          5587          8.628377       5.888878\n",
            "6       0        0           1  ...          2226          7.708411       5.888878\n",
            "7       1        1           2  ...          3881          8.264106       5.888878\n",
            "8       1        1           2  ...         13633          9.520322       5.484797\n",
            "9       1        0           0  ...          4800          8.476580       5.888878\n",
            "\n",
            "[10 rows x 12 columns]\n"
          ]
        }
      ]
    },
    {
      "cell_type": "markdown",
      "source": [
        "### Hypothesis\n",
        "  f(x<sub>1</sub>, x<sub>2</sub>, x<sub>3</sub>, x<sub>4</sub>, x<sub>5</sub>) = w<sub>0</sub> + w<sub>1</sub>x<sub>1</sub>+ w<sub>2</sub>x<sub>2</sub>+ w<sub>3</sub>x<sub>3</sub>+ w<sub>4</sub>4<sub>0</sub>+ w<sub>5</sub>x<sub>5</sub>+ w<sub>6</sub>x<sub>6</sub>+ w<sub>7</sub>x<sub>7</sub>\n",
        "\n",
        "\n",
        "\n"
      ],
      "metadata": {
        "id": "tuR5v-9TMCjA"
      }
    },
    {
      "cell_type": "code",
      "source": [
        "data_X,data_Y=Loan_data[['Total_Income_Log','Gender','Married','Dependents','Education','Self_Employed',\"Property_Area\",\"Credit_History\",\"Loan_Term_Log\"]].values , Loan_data['LoanAmount'].values\n",
        "test_X,test_Y=test_data[['Total_Income_Log','Gender','Married','Dependents','Education','Self_Employed',\"Property_Area\",\"Credit_History\",\"Loan_Term_Log\"]].values , test_data['LoanAmount'].values\n",
        "# ."
      ],
      "metadata": {
        "id": "JWyi3d4b9IFa"
      },
      "execution_count": 423,
      "outputs": []
    },
    {
      "cell_type": "code",
      "source": [
        ""
      ],
      "metadata": {
        "id": "mLJ5Yg7wI73w"
      },
      "execution_count": 423,
      "outputs": []
    },
    {
      "cell_type": "code",
      "source": [
        "model=linear_model.LinearRegression()\n",
        "model.fit(data_X,data_Y)"
      ],
      "metadata": {
        "id": "73I8iVPX95IL",
        "colab": {
          "base_uri": "https://localhost:8080/"
        },
        "outputId": "3ddf79a4-182a-4471-b715-721666a0745d"
      },
      "execution_count": 424,
      "outputs": [
        {
          "output_type": "execute_result",
          "data": {
            "text/plain": [
              "LinearRegression()"
            ]
          },
          "metadata": {},
          "execution_count": 424
        }
      ]
    },
    {
      "cell_type": "code",
      "source": [
        "pridicted_Y=model.predict(data_X)\n",
        "# print(pridicted_Y)\n",
        "acc= model.score(data_X,data_Y)*100\n",
        "print(acc)\n",
        "print(\"Square mean error is :\",mean_squared_error(data_Y,pridicted_Y))"
      ],
      "metadata": {
        "id": "c5PE6chmCgX5",
        "colab": {
          "base_uri": "https://localhost:8080/"
        },
        "outputId": "00042a84-90ae-4fbb-87b3-18aaea686289"
      },
      "execution_count": 425,
      "outputs": [
        {
          "output_type": "stream",
          "name": "stdout",
          "text": [
            "49.1556488597279\n",
            "Square mean error is : 3316.586982777766\n"
          ]
        }
      ]
    },
    {
      "cell_type": "code",
      "source": [
        "print(\"Weights: \",model.coef_)\n",
        "print(\"Intercepts: \",model.intercept_)\n",
        "wt=list(model.coef_)\n",
        "print(wt)\n",
        "wt=[model.intercept_]+wt\n",
        "print(wt)\n",
        "wt=np.array([wt])\n",
        "print(wt)\n",
        "print(wt.shape)"
      ],
      "metadata": {
        "id": "PlEsVoYBHcZm",
        "colab": {
          "base_uri": "https://localhost:8080/"
        },
        "outputId": "673611f0-d088-43de-c1a8-4ae5e86bf05a"
      },
      "execution_count": 426,
      "outputs": [
        {
          "output_type": "stream",
          "name": "stdout",
          "text": [
            "Weights:  [ 1.02140699e+02 -1.92167509e+00 -9.52745107e-01  7.73295008e+00\n",
            " -4.48479105e+00 -1.19311697e+01  8.92397093e-02 -5.08396955e+00\n",
            "  1.60767944e+01]\n",
            "Intercepts:  -830.9574271515453\n",
            "[102.14069941167307, -1.9216750857540066, -0.952745106676447, 7.732950078339861, -4.484791051451648, -11.931169705927736, 0.08923970926891084, -5.083969553500984, 16.076794350923052]\n",
            "[-830.9574271515453, 102.14069941167307, -1.9216750857540066, -0.952745106676447, 7.732950078339861, -4.484791051451648, -11.931169705927736, 0.08923970926891084, -5.083969553500984, 16.076794350923052]\n",
            "[[-8.30957427e+02  1.02140699e+02 -1.92167509e+00 -9.52745107e-01\n",
            "   7.73295008e+00 -4.48479105e+00 -1.19311697e+01  8.92397093e-02\n",
            "  -5.08396955e+00  1.60767944e+01]]\n",
            "(1, 10)\n"
          ]
        }
      ]
    },
    {
      "cell_type": "code",
      "source": [
        "# plt.scatter(data_X.reshape(-1, 1),data_Y.reshape(-1, 1))\n",
        "# plt.plot(data_X.reshape(-1,1),pridicted_Y)\n",
        "# plt.show()\n",
        "income=int(input(\"Enter Total income: \"))\n",
        "income=np.log(income+1)\n",
        "g=int(input(\"Enter Gender(1-> Male ;0-> Female ): \"))\n",
        "m=int(input(\"Enter if Married (1-> yes ;0-> No): \"))\n",
        "d=int(input(\"Enter number of dependents: \"))\n",
        "e=int(input(\"Enter if educated(0-> graduated ; 1 -> not-graduated): \"))\n",
        "se=int(input(\"Enter if self emplyed (1-> yes ;0-> No): \"))\n",
        "p=int(input(\"Emter residence type(0-> Rural ;1->semiurban ;2-> Urban ): \"))\n",
        "c=int(input(\"Enter Credit history (1-> yes ; 0-> no): \"))\n",
        "lt=int(input(\"Enter Loan term amount (number of days): \"))\n",
        "lt=np.log(lt+1)\n",
        "var=np.array([1,income,g,m,d,e,se,p,c,lt])\n",
        "print(var.shape)\n",
        "print(var)"
      ],
      "metadata": {
        "id": "ku9jeFVYIP2H"
      },
      "execution_count": null,
      "outputs": []
    },
    {
      "cell_type": "code",
      "source": [
        "print(np.matmul(wt,var))"
      ],
      "metadata": {
        "id": "EZHUBvpWiNvn"
      },
      "execution_count": null,
      "outputs": []
    },
    {
      "cell_type": "markdown",
      "source": [
        "reference: https://medium.com/analytics-vidhya/simple-linear-regression-with-example-using-numpy-e7b984f0d15e\n",
        "\n",
        "https://github.com/ParthS007/Loan-Approval-Prediction/issues"
      ],
      "metadata": {
        "id": "09EDvl0mps-j"
      }
    }
  ]
}