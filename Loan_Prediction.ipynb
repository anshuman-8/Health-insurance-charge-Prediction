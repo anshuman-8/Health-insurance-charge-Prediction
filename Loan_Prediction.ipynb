{
  "nbformat": 4,
  "nbformat_minor": 0,
  "metadata": {
    "colab": {
      "name": "Loan Prediction.ipynb",
      "provenance": [],
      "collapsed_sections": [],
      "authorship_tag": "ABX9TyNnH82lg/go3I49idlqxxAn",
      "include_colab_link": true
    },
    "kernelspec": {
      "name": "python3",
      "display_name": "Python 3"
    },
    "language_info": {
      "name": "python"
    }
  },
  "cells": [
    {
      "cell_type": "markdown",
      "metadata": {
        "id": "view-in-github",
        "colab_type": "text"
      },
      "source": [
        "<a href=\"https://colab.research.google.com/github/anshuman-8/Loan-Prediction/blob/main/Loan_Prediction.ipynb\" target=\"_parent\"><img src=\"https://colab.research.google.com/assets/colab-badge.svg\" alt=\"Open In Colab\"/></a>"
      ]
    },
    {
      "cell_type": "markdown",
      "source": [
        "# Loan Approval Prediction\n"
      ],
      "metadata": {
        "id": "sdGp1iyABl_t"
      }
    },
    {
      "cell_type": "markdown",
      "source": [
        "Importing all modules"
      ],
      "metadata": {
        "id": "SxB0CvNggtxx"
      }
    },
    {
      "cell_type": "code",
      "execution_count": 125,
      "metadata": {
        "id": "bLARTjPGbNgY"
      },
      "outputs": [],
      "source": [
        "import pandas as pd\n",
        "import numpy as np\n",
        "import seaborn as sb\n",
        "import matplotlib.pyplot as plt\n",
        "from sklearn import datasets, linear_model\n",
        "%matplotlib inline\n",
        "from sklearn.metrics import mean_squared_error"
      ]
    },
    {
      "cell_type": "markdown",
      "source": [
        "Getting and displaying Dataset"
      ],
      "metadata": {
        "id": "hURaW40tgzAE"
      }
    },
    {
      "cell_type": "code",
      "source": [
        "Loan_data = pd.read_csv(\"/content/loan_Approval_dataset.csv\")\n",
        "# Loan_data=datasets.loan_dataset.csv\n",
        "Loan_data.head()\n",
        "Loan_data.shape"
      ],
      "metadata": {
        "colab": {
          "base_uri": "https://localhost:8080/"
        },
        "id": "5yV_4Fn8a4Co",
        "outputId": "820ddc98-af9c-4a40-9e66-ccd6854addc5"
      },
      "execution_count": 126,
      "outputs": [
        {
          "output_type": "execute_result",
          "data": {
            "text/plain": [
              "(614, 13)"
            ]
          },
          "metadata": {},
          "execution_count": 126
        }
      ]
    },
    {
      "cell_type": "code",
      "source": [
        "test_data = pd.read_csv(\"/content/loan_dataset.csv\")\n",
        "# Loan_data=datasets.loan_dataset.csv\n",
        "test_data.head()\n",
        "test_data.shape"
      ],
      "metadata": {
        "colab": {
          "base_uri": "https://localhost:8080/"
        },
        "id": "MPPujC3uW9Uf",
        "outputId": "10f6823b-dadc-4505-f4cb-20d431ec8953"
      },
      "execution_count": 127,
      "outputs": [
        {
          "output_type": "execute_result",
          "data": {
            "text/plain": [
              "(367, 12)"
            ]
          },
          "metadata": {},
          "execution_count": 127
        }
      ]
    },
    {
      "cell_type": "code",
      "source": [
        "print(Loan_data.keys())"
      ],
      "metadata": {
        "colab": {
          "base_uri": "https://localhost:8080/"
        },
        "id": "x6zE2lrIufCI",
        "outputId": "da641b4e-40db-4288-d98c-ad666c4250a7"
      },
      "execution_count": 128,
      "outputs": [
        {
          "output_type": "stream",
          "name": "stdout",
          "text": [
            "Index(['Loan_ID', 'Gender', 'Married', 'Dependents', 'Education',\n",
            "       'Self_Employed', 'ApplicantIncome', 'CoapplicantIncome', 'LoanAmount',\n",
            "       'Loan_Amount_Term', 'Credit_History', 'Property_Area', 'Loan_Status'],\n",
            "      dtype='object')\n"
          ]
        }
      ]
    },
    {
      "cell_type": "markdown",
      "source": [
        "Columns with number of empty cells"
      ],
      "metadata": {
        "id": "gdAbO0xfg8xo"
      }
    },
    {
      "cell_type": "code",
      "source": [
        "Loan_data.isnull().sum()"
      ],
      "metadata": {
        "colab": {
          "base_uri": "https://localhost:8080/"
        },
        "id": "OkcYAqhIfOVc",
        "outputId": "7cdf5da3-c6fd-4499-f26e-ee44cfde88bb"
      },
      "execution_count": 129,
      "outputs": [
        {
          "output_type": "execute_result",
          "data": {
            "text/plain": [
              "Loan_ID               0\n",
              "Gender               13\n",
              "Married               3\n",
              "Dependents           15\n",
              "Education             0\n",
              "Self_Employed        32\n",
              "ApplicantIncome       0\n",
              "CoapplicantIncome     0\n",
              "LoanAmount           22\n",
              "Loan_Amount_Term     14\n",
              "Credit_History       50\n",
              "Property_Area         0\n",
              "Loan_Status           0\n",
              "dtype: int64"
            ]
          },
          "metadata": {},
          "execution_count": 129
        }
      ]
    },
    {
      "cell_type": "code",
      "source": [
        "Loan_data['LoanAmount'] = Loan_data['LoanAmount'].fillna(Loan_data['LoanAmount'].mean())\n",
        "Loan_data['Loan_Amount_Term'] = Loan_data['Loan_Amount_Term'].fillna(Loan_data['Loan_Amount_Term'].mean())\n",
        "Loan_data['Credit_History'] = Loan_data['Credit_History'].fillna(Loan_data['Credit_History'].mean())"
      ],
      "metadata": {
        "id": "x6BY_MQe7jUs"
      },
      "execution_count": 130,
      "outputs": []
    },
    {
      "cell_type": "code",
      "source": [
        "Loan_data['Gender'] = Loan_data[\"Gender\"].fillna(Loan_data['Gender'].mode()[0])\n",
        "Loan_data['Married'] = Loan_data[\"Married\"].fillna(Loan_data['Married'].mode()[0])\n",
        "Loan_data['Dependents'] = Loan_data[\"Dependents\"].fillna(Loan_data['Dependents'].mode()[0])\n",
        "Loan_data['Self_Employed'] = Loan_data[\"Self_Employed\"].fillna(Loan_data['Self_Employed'].mode()[0])"
      ],
      "metadata": {
        "id": "c1BEhQJn7szK"
      },
      "execution_count": 131,
      "outputs": []
    },
    {
      "cell_type": "code",
      "source": [
        "Loan_data.isnull().sum()"
      ],
      "metadata": {
        "colab": {
          "base_uri": "https://localhost:8080/"
        },
        "id": "3zcyA9xPgnCp",
        "outputId": "9b884b56-357f-4493-c699-080b2f2e947b"
      },
      "execution_count": 132,
      "outputs": [
        {
          "output_type": "execute_result",
          "data": {
            "text/plain": [
              "Loan_ID              0\n",
              "Gender               0\n",
              "Married              0\n",
              "Dependents           0\n",
              "Education            0\n",
              "Self_Employed        0\n",
              "ApplicantIncome      0\n",
              "CoapplicantIncome    0\n",
              "LoanAmount           0\n",
              "Loan_Amount_Term     0\n",
              "Credit_History       0\n",
              "Property_Area        0\n",
              "Loan_Status          0\n",
              "dtype: int64"
            ]
          },
          "metadata": {},
          "execution_count": 132
        }
      ]
    },
    {
      "cell_type": "code",
      "source": [
        "test_data.isnull().sum()"
      ],
      "metadata": {
        "colab": {
          "base_uri": "https://localhost:8080/"
        },
        "id": "OG8NQSL-cqL1",
        "outputId": "f603dad3-1a1d-4add-ba72-d579e823ecff"
      },
      "execution_count": 133,
      "outputs": [
        {
          "output_type": "execute_result",
          "data": {
            "text/plain": [
              "Loan_ID               0\n",
              "Gender               11\n",
              "Married               0\n",
              "Dependents           10\n",
              "Education             0\n",
              "Self_Employed        23\n",
              "ApplicantIncome       0\n",
              "CoapplicantIncome     0\n",
              "LoanAmount            5\n",
              "Loan_Amount_Term      6\n",
              "Credit_History       29\n",
              "Property_Area         0\n",
              "dtype: int64"
            ]
          },
          "metadata": {},
          "execution_count": 133
        }
      ]
    },
    {
      "cell_type": "code",
      "source": [
        "test_data['LoanAmount'] = test_data['LoanAmount'].fillna(test_data['LoanAmount'].mean())\n",
        "test_data['Loan_Amount_Term'] = test_data['Loan_Amount_Term'].fillna(test_data['Loan_Amount_Term'].mean())\n",
        "test_data['Credit_History'] = test_data['Credit_History'].fillna(test_data['Credit_History'].mean())"
      ],
      "metadata": {
        "id": "2EQsE7vxcq96"
      },
      "execution_count": 134,
      "outputs": []
    },
    {
      "cell_type": "code",
      "source": [
        "test_data['Gender'] = test_data[\"Gender\"].fillna(test_data['Gender'].mode()[0])\n",
        "test_data['Dependents'] = test_data[\"Dependents\"].fillna(test_data['Dependents'].mode()[0])\n",
        "test_data['Self_Employed'] = test_data[\"Self_Employed\"].fillna(test_data['Self_Employed'].mode()[0])"
      ],
      "metadata": {
        "id": "iRTEhyTdcq97"
      },
      "execution_count": 135,
      "outputs": []
    },
    {
      "cell_type": "code",
      "source": [
        "Loan_data['Total_Income'] = Loan_data['ApplicantIncome'] + Loan_data['CoapplicantIncome']\n",
        "test_data['Total_Income'] = test_data['ApplicantIncome'] + test_data['CoapplicantIncome']"
      ],
      "metadata": {
        "id": "3ItsK2mN88YP"
      },
      "execution_count": 136,
      "outputs": []
    },
    {
      "cell_type": "code",
      "source": [
        "Loan_data.head()"
      ],
      "metadata": {
        "colab": {
          "base_uri": "https://localhost:8080/",
          "height": 288
        },
        "id": "tubJWTkb89iq",
        "outputId": "c739ee43-0c66-438f-c9df-285009cabf95"
      },
      "execution_count": 137,
      "outputs": [
        {
          "output_type": "execute_result",
          "data": {
            "text/html": [
              "\n",
              "  <div id=\"df-3f6e0c33-fda5-40af-b6b7-2363e44e8475\">\n",
              "    <div class=\"colab-df-container\">\n",
              "      <div>\n",
              "<style scoped>\n",
              "    .dataframe tbody tr th:only-of-type {\n",
              "        vertical-align: middle;\n",
              "    }\n",
              "\n",
              "    .dataframe tbody tr th {\n",
              "        vertical-align: top;\n",
              "    }\n",
              "\n",
              "    .dataframe thead th {\n",
              "        text-align: right;\n",
              "    }\n",
              "</style>\n",
              "<table border=\"1\" class=\"dataframe\">\n",
              "  <thead>\n",
              "    <tr style=\"text-align: right;\">\n",
              "      <th></th>\n",
              "      <th>Loan_ID</th>\n",
              "      <th>Gender</th>\n",
              "      <th>Married</th>\n",
              "      <th>Dependents</th>\n",
              "      <th>Education</th>\n",
              "      <th>Self_Employed</th>\n",
              "      <th>ApplicantIncome</th>\n",
              "      <th>CoapplicantIncome</th>\n",
              "      <th>LoanAmount</th>\n",
              "      <th>Loan_Amount_Term</th>\n",
              "      <th>Credit_History</th>\n",
              "      <th>Property_Area</th>\n",
              "      <th>Loan_Status</th>\n",
              "      <th>Total_Income</th>\n",
              "    </tr>\n",
              "  </thead>\n",
              "  <tbody>\n",
              "    <tr>\n",
              "      <th>0</th>\n",
              "      <td>LP001002</td>\n",
              "      <td>Male</td>\n",
              "      <td>No</td>\n",
              "      <td>0</td>\n",
              "      <td>Graduate</td>\n",
              "      <td>No</td>\n",
              "      <td>5849</td>\n",
              "      <td>0.0</td>\n",
              "      <td>146.412162</td>\n",
              "      <td>360.0</td>\n",
              "      <td>1.0</td>\n",
              "      <td>Urban</td>\n",
              "      <td>Y</td>\n",
              "      <td>5849.0</td>\n",
              "    </tr>\n",
              "    <tr>\n",
              "      <th>1</th>\n",
              "      <td>LP001003</td>\n",
              "      <td>Male</td>\n",
              "      <td>Yes</td>\n",
              "      <td>1</td>\n",
              "      <td>Graduate</td>\n",
              "      <td>No</td>\n",
              "      <td>4583</td>\n",
              "      <td>1508.0</td>\n",
              "      <td>128.000000</td>\n",
              "      <td>360.0</td>\n",
              "      <td>1.0</td>\n",
              "      <td>Rural</td>\n",
              "      <td>N</td>\n",
              "      <td>6091.0</td>\n",
              "    </tr>\n",
              "    <tr>\n",
              "      <th>2</th>\n",
              "      <td>LP001005</td>\n",
              "      <td>Male</td>\n",
              "      <td>Yes</td>\n",
              "      <td>0</td>\n",
              "      <td>Graduate</td>\n",
              "      <td>Yes</td>\n",
              "      <td>3000</td>\n",
              "      <td>0.0</td>\n",
              "      <td>66.000000</td>\n",
              "      <td>360.0</td>\n",
              "      <td>1.0</td>\n",
              "      <td>Urban</td>\n",
              "      <td>Y</td>\n",
              "      <td>3000.0</td>\n",
              "    </tr>\n",
              "    <tr>\n",
              "      <th>3</th>\n",
              "      <td>LP001006</td>\n",
              "      <td>Male</td>\n",
              "      <td>Yes</td>\n",
              "      <td>0</td>\n",
              "      <td>Not Graduate</td>\n",
              "      <td>No</td>\n",
              "      <td>2583</td>\n",
              "      <td>2358.0</td>\n",
              "      <td>120.000000</td>\n",
              "      <td>360.0</td>\n",
              "      <td>1.0</td>\n",
              "      <td>Urban</td>\n",
              "      <td>Y</td>\n",
              "      <td>4941.0</td>\n",
              "    </tr>\n",
              "    <tr>\n",
              "      <th>4</th>\n",
              "      <td>LP001008</td>\n",
              "      <td>Male</td>\n",
              "      <td>No</td>\n",
              "      <td>0</td>\n",
              "      <td>Graduate</td>\n",
              "      <td>No</td>\n",
              "      <td>6000</td>\n",
              "      <td>0.0</td>\n",
              "      <td>141.000000</td>\n",
              "      <td>360.0</td>\n",
              "      <td>1.0</td>\n",
              "      <td>Urban</td>\n",
              "      <td>Y</td>\n",
              "      <td>6000.0</td>\n",
              "    </tr>\n",
              "  </tbody>\n",
              "</table>\n",
              "</div>\n",
              "      <button class=\"colab-df-convert\" onclick=\"convertToInteractive('df-3f6e0c33-fda5-40af-b6b7-2363e44e8475')\"\n",
              "              title=\"Convert this dataframe to an interactive table.\"\n",
              "              style=\"display:none;\">\n",
              "        \n",
              "  <svg xmlns=\"http://www.w3.org/2000/svg\" height=\"24px\"viewBox=\"0 0 24 24\"\n",
              "       width=\"24px\">\n",
              "    <path d=\"M0 0h24v24H0V0z\" fill=\"none\"/>\n",
              "    <path d=\"M18.56 5.44l.94 2.06.94-2.06 2.06-.94-2.06-.94-.94-2.06-.94 2.06-2.06.94zm-11 1L8.5 8.5l.94-2.06 2.06-.94-2.06-.94L8.5 2.5l-.94 2.06-2.06.94zm10 10l.94 2.06.94-2.06 2.06-.94-2.06-.94-.94-2.06-.94 2.06-2.06.94z\"/><path d=\"M17.41 7.96l-1.37-1.37c-.4-.4-.92-.59-1.43-.59-.52 0-1.04.2-1.43.59L10.3 9.45l-7.72 7.72c-.78.78-.78 2.05 0 2.83L4 21.41c.39.39.9.59 1.41.59.51 0 1.02-.2 1.41-.59l7.78-7.78 2.81-2.81c.8-.78.8-2.07 0-2.86zM5.41 20L4 18.59l7.72-7.72 1.47 1.35L5.41 20z\"/>\n",
              "  </svg>\n",
              "      </button>\n",
              "      \n",
              "  <style>\n",
              "    .colab-df-container {\n",
              "      display:flex;\n",
              "      flex-wrap:wrap;\n",
              "      gap: 12px;\n",
              "    }\n",
              "\n",
              "    .colab-df-convert {\n",
              "      background-color: #E8F0FE;\n",
              "      border: none;\n",
              "      border-radius: 50%;\n",
              "      cursor: pointer;\n",
              "      display: none;\n",
              "      fill: #1967D2;\n",
              "      height: 32px;\n",
              "      padding: 0 0 0 0;\n",
              "      width: 32px;\n",
              "    }\n",
              "\n",
              "    .colab-df-convert:hover {\n",
              "      background-color: #E2EBFA;\n",
              "      box-shadow: 0px 1px 2px rgba(60, 64, 67, 0.3), 0px 1px 3px 1px rgba(60, 64, 67, 0.15);\n",
              "      fill: #174EA6;\n",
              "    }\n",
              "\n",
              "    [theme=dark] .colab-df-convert {\n",
              "      background-color: #3B4455;\n",
              "      fill: #D2E3FC;\n",
              "    }\n",
              "\n",
              "    [theme=dark] .colab-df-convert:hover {\n",
              "      background-color: #434B5C;\n",
              "      box-shadow: 0px 1px 3px 1px rgba(0, 0, 0, 0.15);\n",
              "      filter: drop-shadow(0px 1px 2px rgba(0, 0, 0, 0.3));\n",
              "      fill: #FFFFFF;\n",
              "    }\n",
              "  </style>\n",
              "\n",
              "      <script>\n",
              "        const buttonEl =\n",
              "          document.querySelector('#df-3f6e0c33-fda5-40af-b6b7-2363e44e8475 button.colab-df-convert');\n",
              "        buttonEl.style.display =\n",
              "          google.colab.kernel.accessAllowed ? 'block' : 'none';\n",
              "\n",
              "        async function convertToInteractive(key) {\n",
              "          const element = document.querySelector('#df-3f6e0c33-fda5-40af-b6b7-2363e44e8475');\n",
              "          const dataTable =\n",
              "            await google.colab.kernel.invokeFunction('convertToInteractive',\n",
              "                                                     [key], {});\n",
              "          if (!dataTable) return;\n",
              "\n",
              "          const docLinkHtml = 'Like what you see? Visit the ' +\n",
              "            '<a target=\"_blank\" href=https://colab.research.google.com/notebooks/data_table.ipynb>data table notebook</a>'\n",
              "            + ' to learn more about interactive tables.';\n",
              "          element.innerHTML = '';\n",
              "          dataTable['output_type'] = 'display_data';\n",
              "          await google.colab.output.renderOutput(dataTable, element);\n",
              "          const docLink = document.createElement('div');\n",
              "          docLink.innerHTML = docLinkHtml;\n",
              "          element.appendChild(docLink);\n",
              "        }\n",
              "      </script>\n",
              "    </div>\n",
              "  </div>\n",
              "  "
            ],
            "text/plain": [
              "    Loan_ID Gender Married  ... Property_Area Loan_Status Total_Income\n",
              "0  LP001002   Male      No  ...         Urban           Y       5849.0\n",
              "1  LP001003   Male     Yes  ...         Rural           N       6091.0\n",
              "2  LP001005   Male     Yes  ...         Urban           Y       3000.0\n",
              "3  LP001006   Male     Yes  ...         Urban           Y       4941.0\n",
              "4  LP001008   Male      No  ...         Urban           Y       6000.0\n",
              "\n",
              "[5 rows x 14 columns]"
            ]
          },
          "metadata": {},
          "execution_count": 137
        }
      ]
    },
    {
      "cell_type": "code",
      "source": [
        "col=['Loan_ID','ApplicantIncome','CoapplicantIncome']\n",
        "for c in col:\n",
        "  del test_data[c]\n",
        "  del Loan_data[c]\n",
        "\n",
        "from sklearn.preprocessing import LabelEncoder\n",
        "cols = ['Gender',\"Married\",\"Education\",'Self_Employed',\"Property_Area\",\"Dependents\",\"Loan_Status\"]\n",
        "le = LabelEncoder()\n",
        "for col in cols:\n",
        "    Loan_data[col] = le.fit_transform(Loan_data[col])\n",
        "print(Loan_data.head())"
      ],
      "metadata": {
        "colab": {
          "base_uri": "https://localhost:8080/"
        },
        "id": "hlkyRuuGN1CO",
        "outputId": "fc80d3da-611e-43c6-8e15-585c805c7cb6"
      },
      "execution_count": 138,
      "outputs": [
        {
          "output_type": "stream",
          "name": "stdout",
          "text": [
            "   Gender  Married  Dependents  ...  Property_Area  Loan_Status  Total_Income\n",
            "0       1        0           0  ...              2            1        5849.0\n",
            "1       1        1           1  ...              0            0        6091.0\n",
            "2       1        1           0  ...              2            1        3000.0\n",
            "3       1        1           0  ...              2            1        4941.0\n",
            "4       1        0           0  ...              2            1        6000.0\n",
            "\n",
            "[5 rows x 11 columns]\n"
          ]
        }
      ]
    },
    {
      "cell_type": "code",
      "source": [
        "from sklearn.preprocessing import LabelEncoder\n",
        "cols = ['Gender',\"Married\",\"Education\",'Self_Employed',\"Property_Area\",\"Dependents\"]\n",
        "le = LabelEncoder()\n",
        "for col in cols:\n",
        "    test_data[col] = le.fit_transform(test_data[col])\n",
        "print(test_data[\"Self_Employed\"].head(23))"
      ],
      "metadata": {
        "colab": {
          "base_uri": "https://localhost:8080/"
        },
        "id": "pUpOFSiBe7Cq",
        "outputId": "6110486c-bdf9-48f7-c4e7-dc62bcd8f134"
      },
      "execution_count": 139,
      "outputs": [
        {
          "output_type": "stream",
          "name": "stdout",
          "text": [
            "0     0\n",
            "1     0\n",
            "2     0\n",
            "3     0\n",
            "4     0\n",
            "5     1\n",
            "6     0\n",
            "7     0\n",
            "8     0\n",
            "9     0\n",
            "10    0\n",
            "11    0\n",
            "12    0\n",
            "13    0\n",
            "14    0\n",
            "15    0\n",
            "16    0\n",
            "17    0\n",
            "18    0\n",
            "19    0\n",
            "20    0\n",
            "21    0\n",
            "22    0\n",
            "Name: Self_Employed, dtype: int64\n"
          ]
        }
      ]
    },
    {
      "cell_type": "markdown",
      "source": [
        "### Hypothesis\n",
        "  f(x<sub>1</sub>, x<sub>2</sub>, x<sub>3</sub>, x<sub>4</sub>, x<sub>5</sub>) = w<sub>0</sub> + w<sub>1</sub>x<sub>1</sub>+ w<sub>2</sub>x<sub>2</sub>+ w<sub>3</sub>x<sub>3</sub>+ w<sub>4</sub>4<sub>0</sub>+ w<sub>5</sub>x<sub>5</sub>+ w<sub>6</sub>x<sub>6</sub>+ w<sub>7</sub>x<sub>7</sub>\n",
        "\n",
        "\n",
        "\n"
      ],
      "metadata": {
        "id": "tuR5v-9TMCjA"
      }
    },
    {
      "cell_type": "code",
      "source": [
        "data_X,data_Y=Loan_data[['Total_Income','Gender','Married','Dependents','Education','Self_Employed',\"Property_Area\",\"Credit_History\",\"Loan_Amount_Term\"]].values, Loan_data['Loan_Status'].values\n",
        "test_X=test_data[['Total_Income','Gender','Married','Dependents','Education','Self_Employed',\"Property_Area\",\"Credit_History\",\"Loan_Amount_Term\"]].values\n",
        "# ."
      ],
      "metadata": {
        "id": "JWyi3d4b9IFa"
      },
      "execution_count": 140,
      "outputs": []
    },
    {
      "cell_type": "code",
      "source": [
        "model=linear_model.LinearRegression()\n",
        "model.fit(data_X,data_Y)"
      ],
      "metadata": {
        "colab": {
          "base_uri": "https://localhost:8080/"
        },
        "id": "73I8iVPX95IL",
        "outputId": "36f49afc-86b7-443a-a921-03a0f9d69739"
      },
      "execution_count": 141,
      "outputs": [
        {
          "output_type": "execute_result",
          "data": {
            "text/plain": [
              "LinearRegression()"
            ]
          },
          "metadata": {},
          "execution_count": 141
        }
      ]
    },
    {
      "cell_type": "code",
      "source": [
        "pridicted_Y=model.predict(test_X)\n",
        "# print(\"Square mean error is :\",mean_squared_error(data_Y,pridicted_Y))"
      ],
      "metadata": {
        "id": "c5PE6chmCgX5"
      },
      "execution_count": 142,
      "outputs": []
    },
    {
      "cell_type": "code",
      "source": [
        "print(\"Weights: \",model.coef_)\n",
        "wt=np.array(list(model.coef_))\n",
        "print(\"Intercepts: \",model.intercept_)"
      ],
      "metadata": {
        "colab": {
          "base_uri": "https://localhost:8080/"
        },
        "id": "PlEsVoYBHcZm",
        "outputId": "68bd227c-3117-4938-ba6a-f1a96fa48bf7"
      },
      "execution_count": 143,
      "outputs": [
        {
          "output_type": "stream",
          "name": "stdout",
          "text": [
            "Weights:  [-2.87437300e-06 -2.32442999e-02  9.23904210e-02  3.61592349e-03\n",
            " -5.70562211e-02  1.19742999e-03  1.61522203e-02  7.11200290e-01\n",
            " -1.25025717e-04]\n",
            "Intercepts:  0.10278307450845126\n"
          ]
        }
      ]
    },
    {
      "cell_type": "code",
      "source": [
        "# plt.scatter(data_X.reshape(-1, 1),data_Y.reshape(-1, 1))\n",
        "# plt.plot(data_X.reshape(-1,1),pridicted_Y)\n",
        "# plt.show()\n",
        "income=int(input(\"Enter Total income: \"))\n",
        "g=int(input(\"Enter Gender(1-> Male ;0-> Female ): \"))\n",
        "m=int(input(\"Enter if Married (1-> yes ;0-> No): \"))\n",
        "d=int(input(\"Enter number of dependents: \"))\n",
        "e=int(input(\"Enter if educated(0-> graduated ; 1 -> not-graduated): \"))\n",
        "se=int(input(\"Enter if self emplyed (1-> yes ;0-> No): \"))\n",
        "p=int(input(\"Emter residence type(0-> Rural ;1->semiurban ;2-> Urban ): \"))\n",
        "c=int(input(\"Enter Credit history (1-> yes ; 0-> no): \"))\n",
        "lt=int(input(\"Enter Loan term amount (number): \"))\n",
        "var=np.array([income,g,m,d,e,se,p,c,lt])\n",
        "var.transpose()\n",
        "print(var)"
      ],
      "metadata": {
        "id": "ku9jeFVYIP2H",
        "colab": {
          "base_uri": "https://localhost:8080/"
        },
        "outputId": "364c2378-6301-452b-b5c6-f8f8477b44da"
      },
      "execution_count": 144,
      "outputs": [
        {
          "output_type": "stream",
          "name": "stdout",
          "text": [
            "Enter Total income: 5720\n",
            "Enter Gender(1-> Male ;0-> Female ): 1\n",
            "Enter if Married (1-> yes ;0-> No): 1\n",
            "Enter number of dependents: 0\n",
            "Enter if educated(0-> graduated ; 1 -> not-graduated): 0\n",
            "Enter if self emplyed (1-> yes ;0-> No): 0\n",
            "Emter residence type(0-> Rural ;1->semiurban ;2-> Urban ): 2\n",
            "Enter Credit history (1-> yes ; 0-> no): 1\n",
            "Enter Loan term amount (number): 360\n",
            "[5720    1    1    0    0    0    2    1  360]\n"
          ]
        }
      ]
    },
    {
      "cell_type": "code",
      "source": [
        "print(np.matmul(wt,var))"
      ],
      "metadata": {
        "colab": {
          "base_uri": "https://localhost:8080/"
        },
        "id": "EZHUBvpWiNvn",
        "outputId": "6aadd5f9-1042-486f-cafe-e8def38f3b8f"
      },
      "execution_count": 145,
      "outputs": [
        {
          "output_type": "stream",
          "name": "stdout",
          "text": [
            "0.7512001800160407\n"
          ]
        }
      ]
    },
    {
      "cell_type": "markdown",
      "source": [
        "reference: https://medium.com/analytics-vidhya/simple-linear-regression-with-example-using-numpy-e7b984f0d15e\n",
        "\n",
        "https://github.com/ParthS007/Loan-Approval-Prediction/issues"
      ],
      "metadata": {
        "id": "09EDvl0mps-j"
      }
    }
  ]
}