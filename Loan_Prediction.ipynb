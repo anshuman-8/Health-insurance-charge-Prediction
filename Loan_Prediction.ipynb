{
  "nbformat": 4,
  "nbformat_minor": 0,
  "metadata": {
    "colab": {
      "name": "Loan Prediction.ipynb",
      "provenance": [],
      "collapsed_sections": [],
      "authorship_tag": "ABX9TyOloqMA1PjehfFa6UxO5svb",
      "include_colab_link": true
    },
    "kernelspec": {
      "name": "python3",
      "display_name": "Python 3"
    },
    "language_info": {
      "name": "python"
    }
  },
  "cells": [
    {
      "cell_type": "markdown",
      "metadata": {
        "id": "view-in-github",
        "colab_type": "text"
      },
      "source": [
        "<a href=\"https://colab.research.google.com/github/anshuman-8/Loan-Prediction/blob/main/Loan_Prediction.ipynb\" target=\"_parent\"><img src=\"https://colab.research.google.com/assets/colab-badge.svg\" alt=\"Open In Colab\"/></a>"
      ]
    },
    {
      "cell_type": "markdown",
      "source": [
        "# Loan Approval Prediction\n"
      ],
      "metadata": {
        "id": "sdGp1iyABl_t"
      }
    },
    {
      "cell_type": "markdown",
      "source": [
        "Importing all modules"
      ],
      "metadata": {
        "id": "SxB0CvNggtxx"
      }
    },
    {
      "cell_type": "code",
      "execution_count": 118,
      "metadata": {
        "id": "bLARTjPGbNgY"
      },
      "outputs": [],
      "source": [
        "import pandas as pd\n",
        "import numpy as np\n",
        "import seaborn as sb\n",
        "import matplotlib.pyplot as plt\n",
        "from sklearn import datasets, linear_model\n",
        "%matplotlib inline\n",
        "from sklearn.metrics import mean_squared_error"
      ]
    },
    {
      "cell_type": "markdown",
      "source": [
        "Getting and displaying Dataset"
      ],
      "metadata": {
        "id": "hURaW40tgzAE"
      }
    },
    {
      "cell_type": "code",
      "source": [
        "Loan_data = pd.read_csv(\"/content/loan_Approval_dataset.csv\")\n",
        "# Loan_data=datasets.loan_dataset.csv\n",
        "Loan_data.head()\n",
        "Loan_data.shape"
      ],
      "metadata": {
        "colab": {
          "base_uri": "https://localhost:8080/"
        },
        "id": "5yV_4Fn8a4Co",
        "outputId": "a2ea1c2d-82da-4cbd-de47-be20bb5d90a7"
      },
      "execution_count": 119,
      "outputs": [
        {
          "output_type": "execute_result",
          "data": {
            "text/plain": [
              "(614, 13)"
            ]
          },
          "metadata": {},
          "execution_count": 119
        }
      ]
    },
    {
      "cell_type": "code",
      "source": [
        "test_data = pd.read_csv(\"/content/loan_dataset.csv\")\n",
        "# Loan_data=datasets.loan_dataset.csv\n",
        "test_data.head()\n",
        "test_data.shape"
      ],
      "metadata": {
        "colab": {
          "base_uri": "https://localhost:8080/"
        },
        "id": "MPPujC3uW9Uf",
        "outputId": "7d548c89-627a-47a7-8b77-21947f832ffc"
      },
      "execution_count": 120,
      "outputs": [
        {
          "output_type": "execute_result",
          "data": {
            "text/plain": [
              "(367, 12)"
            ]
          },
          "metadata": {},
          "execution_count": 120
        }
      ]
    },
    {
      "cell_type": "code",
      "source": [
        "print(Loan_data.keys())"
      ],
      "metadata": {
        "colab": {
          "base_uri": "https://localhost:8080/"
        },
        "id": "x6zE2lrIufCI",
        "outputId": "a483455c-3a7d-40b7-f845-d61da89b23a6"
      },
      "execution_count": 121,
      "outputs": [
        {
          "output_type": "stream",
          "name": "stdout",
          "text": [
            "Index(['Loan_ID', 'Gender', 'Married', 'Dependents', 'Education',\n",
            "       'Self_Employed', 'ApplicantIncome', 'CoapplicantIncome', 'LoanAmount',\n",
            "       'Loan_Amount_Term', 'Credit_History', 'Property_Area', 'Loan_Status'],\n",
            "      dtype='object')\n"
          ]
        }
      ]
    },
    {
      "cell_type": "markdown",
      "source": [
        "Columns with number of empty cells"
      ],
      "metadata": {
        "id": "gdAbO0xfg8xo"
      }
    },
    {
      "cell_type": "code",
      "source": [
        "Loan_data.isnull().sum()"
      ],
      "metadata": {
        "colab": {
          "base_uri": "https://localhost:8080/"
        },
        "id": "OkcYAqhIfOVc",
        "outputId": "fa017570-27ba-447f-d3eb-6dfe76aac236"
      },
      "execution_count": 122,
      "outputs": [
        {
          "output_type": "execute_result",
          "data": {
            "text/plain": [
              "Loan_ID               0\n",
              "Gender               13\n",
              "Married               3\n",
              "Dependents           15\n",
              "Education             0\n",
              "Self_Employed        32\n",
              "ApplicantIncome       0\n",
              "CoapplicantIncome     0\n",
              "LoanAmount           22\n",
              "Loan_Amount_Term     14\n",
              "Credit_History       50\n",
              "Property_Area         0\n",
              "Loan_Status           0\n",
              "dtype: int64"
            ]
          },
          "metadata": {},
          "execution_count": 122
        }
      ]
    },
    {
      "cell_type": "code",
      "source": [
        "Loan_data['LoanAmount'] = Loan_data['LoanAmount'].fillna(Loan_data['LoanAmount'].mean())\n",
        "Loan_data['Loan_Amount_Term'] = Loan_data['Loan_Amount_Term'].fillna(Loan_data['Loan_Amount_Term'].mean())\n",
        "Loan_data['Credit_History'] = Loan_data['Credit_History'].fillna(Loan_data['Credit_History'].mean())"
      ],
      "metadata": {
        "id": "x6BY_MQe7jUs"
      },
      "execution_count": 123,
      "outputs": []
    },
    {
      "cell_type": "code",
      "source": [
        "Loan_data['Gender'] = Loan_data[\"Gender\"].fillna(Loan_data['Gender'].mode()[0])\n",
        "Loan_data['Married'] = Loan_data[\"Married\"].fillna(Loan_data['Married'].mode()[0])\n",
        "Loan_data['Dependents'] = Loan_data[\"Dependents\"].fillna(Loan_data['Dependents'].mode()[0])\n",
        "Loan_data['Self_Employed'] = Loan_data[\"Self_Employed\"].fillna(Loan_data['Self_Employed'].mode()[0])"
      ],
      "metadata": {
        "id": "c1BEhQJn7szK"
      },
      "execution_count": 124,
      "outputs": []
    },
    {
      "cell_type": "code",
      "source": [
        "Loan_data.isnull().sum()"
      ],
      "metadata": {
        "colab": {
          "base_uri": "https://localhost:8080/"
        },
        "id": "3zcyA9xPgnCp",
        "outputId": "9513efde-6ba6-41b1-8eba-e53d13aed04e"
      },
      "execution_count": 125,
      "outputs": [
        {
          "output_type": "execute_result",
          "data": {
            "text/plain": [
              "Loan_ID              0\n",
              "Gender               0\n",
              "Married              0\n",
              "Dependents           0\n",
              "Education            0\n",
              "Self_Employed        0\n",
              "ApplicantIncome      0\n",
              "CoapplicantIncome    0\n",
              "LoanAmount           0\n",
              "Loan_Amount_Term     0\n",
              "Credit_History       0\n",
              "Property_Area        0\n",
              "Loan_Status          0\n",
              "dtype: int64"
            ]
          },
          "metadata": {},
          "execution_count": 125
        }
      ]
    },
    {
      "cell_type": "code",
      "source": [
        "test_data.isnull().sum()"
      ],
      "metadata": {
        "colab": {
          "base_uri": "https://localhost:8080/"
        },
        "id": "OG8NQSL-cqL1",
        "outputId": "8fc219b3-519a-4bec-d920-5605905f36cf"
      },
      "execution_count": 126,
      "outputs": [
        {
          "output_type": "execute_result",
          "data": {
            "text/plain": [
              "Loan_ID               0\n",
              "Gender               11\n",
              "Married               0\n",
              "Dependents           10\n",
              "Education             0\n",
              "Self_Employed        23\n",
              "ApplicantIncome       0\n",
              "CoapplicantIncome     0\n",
              "LoanAmount            5\n",
              "Loan_Amount_Term      6\n",
              "Credit_History       29\n",
              "Property_Area         0\n",
              "dtype: int64"
            ]
          },
          "metadata": {},
          "execution_count": 126
        }
      ]
    },
    {
      "cell_type": "code",
      "source": [
        "test_data['LoanAmount'] = test_data['LoanAmount'].fillna(test_data['LoanAmount'].mean())\n",
        "test_data['Loan_Amount_Term'] = test_data['Loan_Amount_Term'].fillna(test_data['Loan_Amount_Term'].mean())\n",
        "test_data['Credit_History'] = test_data['Credit_History'].fillna(test_data['Credit_History'].mean())"
      ],
      "metadata": {
        "id": "2EQsE7vxcq96"
      },
      "execution_count": 127,
      "outputs": []
    },
    {
      "cell_type": "code",
      "source": [
        "test_data['Gender'] = test_data[\"Gender\"].fillna(test_data['Gender'].mode()[0])\n",
        "test_data['Dependents'] = test_data[\"Dependents\"].fillna(test_data['Dependents'].mode()[0])\n",
        "test_data['Self_Employed'] = test_data[\"Self_Employed\"].fillna(test_data['Self_Employed'].mode()[0])"
      ],
      "metadata": {
        "id": "iRTEhyTdcq97"
      },
      "execution_count": 128,
      "outputs": []
    },
    {
      "cell_type": "code",
      "source": [
        "Loan_data['Total_Income'] = Loan_data['ApplicantIncome'] + Loan_data['CoapplicantIncome']\n",
        "test_data['Total_Income'] = test_data['ApplicantIncome'] + test_data['CoapplicantIncome']"
      ],
      "metadata": {
        "id": "3ItsK2mN88YP"
      },
      "execution_count": 129,
      "outputs": []
    },
    {
      "cell_type": "code",
      "source": [
        "Loan_data.head()"
      ],
      "metadata": {
        "colab": {
          "base_uri": "https://localhost:8080/",
          "height": 288
        },
        "id": "tubJWTkb89iq",
        "outputId": "645d65ef-ee32-4e4a-9c9e-24f35d6d70bb"
      },
      "execution_count": 130,
      "outputs": [
        {
          "output_type": "execute_result",
          "data": {
            "text/html": [
              "\n",
              "  <div id=\"df-996aa86b-47db-4b84-81a1-f9c1e22e39f1\">\n",
              "    <div class=\"colab-df-container\">\n",
              "      <div>\n",
              "<style scoped>\n",
              "    .dataframe tbody tr th:only-of-type {\n",
              "        vertical-align: middle;\n",
              "    }\n",
              "\n",
              "    .dataframe tbody tr th {\n",
              "        vertical-align: top;\n",
              "    }\n",
              "\n",
              "    .dataframe thead th {\n",
              "        text-align: right;\n",
              "    }\n",
              "</style>\n",
              "<table border=\"1\" class=\"dataframe\">\n",
              "  <thead>\n",
              "    <tr style=\"text-align: right;\">\n",
              "      <th></th>\n",
              "      <th>Loan_ID</th>\n",
              "      <th>Gender</th>\n",
              "      <th>Married</th>\n",
              "      <th>Dependents</th>\n",
              "      <th>Education</th>\n",
              "      <th>Self_Employed</th>\n",
              "      <th>ApplicantIncome</th>\n",
              "      <th>CoapplicantIncome</th>\n",
              "      <th>LoanAmount</th>\n",
              "      <th>Loan_Amount_Term</th>\n",
              "      <th>Credit_History</th>\n",
              "      <th>Property_Area</th>\n",
              "      <th>Loan_Status</th>\n",
              "      <th>Total_Income</th>\n",
              "    </tr>\n",
              "  </thead>\n",
              "  <tbody>\n",
              "    <tr>\n",
              "      <th>0</th>\n",
              "      <td>LP001002</td>\n",
              "      <td>Male</td>\n",
              "      <td>No</td>\n",
              "      <td>0</td>\n",
              "      <td>Graduate</td>\n",
              "      <td>No</td>\n",
              "      <td>5849</td>\n",
              "      <td>0.0</td>\n",
              "      <td>146.412162</td>\n",
              "      <td>360.0</td>\n",
              "      <td>1.0</td>\n",
              "      <td>Urban</td>\n",
              "      <td>Y</td>\n",
              "      <td>5849.0</td>\n",
              "    </tr>\n",
              "    <tr>\n",
              "      <th>1</th>\n",
              "      <td>LP001003</td>\n",
              "      <td>Male</td>\n",
              "      <td>Yes</td>\n",
              "      <td>1</td>\n",
              "      <td>Graduate</td>\n",
              "      <td>No</td>\n",
              "      <td>4583</td>\n",
              "      <td>1508.0</td>\n",
              "      <td>128.000000</td>\n",
              "      <td>360.0</td>\n",
              "      <td>1.0</td>\n",
              "      <td>Rural</td>\n",
              "      <td>N</td>\n",
              "      <td>6091.0</td>\n",
              "    </tr>\n",
              "    <tr>\n",
              "      <th>2</th>\n",
              "      <td>LP001005</td>\n",
              "      <td>Male</td>\n",
              "      <td>Yes</td>\n",
              "      <td>0</td>\n",
              "      <td>Graduate</td>\n",
              "      <td>Yes</td>\n",
              "      <td>3000</td>\n",
              "      <td>0.0</td>\n",
              "      <td>66.000000</td>\n",
              "      <td>360.0</td>\n",
              "      <td>1.0</td>\n",
              "      <td>Urban</td>\n",
              "      <td>Y</td>\n",
              "      <td>3000.0</td>\n",
              "    </tr>\n",
              "    <tr>\n",
              "      <th>3</th>\n",
              "      <td>LP001006</td>\n",
              "      <td>Male</td>\n",
              "      <td>Yes</td>\n",
              "      <td>0</td>\n",
              "      <td>Not Graduate</td>\n",
              "      <td>No</td>\n",
              "      <td>2583</td>\n",
              "      <td>2358.0</td>\n",
              "      <td>120.000000</td>\n",
              "      <td>360.0</td>\n",
              "      <td>1.0</td>\n",
              "      <td>Urban</td>\n",
              "      <td>Y</td>\n",
              "      <td>4941.0</td>\n",
              "    </tr>\n",
              "    <tr>\n",
              "      <th>4</th>\n",
              "      <td>LP001008</td>\n",
              "      <td>Male</td>\n",
              "      <td>No</td>\n",
              "      <td>0</td>\n",
              "      <td>Graduate</td>\n",
              "      <td>No</td>\n",
              "      <td>6000</td>\n",
              "      <td>0.0</td>\n",
              "      <td>141.000000</td>\n",
              "      <td>360.0</td>\n",
              "      <td>1.0</td>\n",
              "      <td>Urban</td>\n",
              "      <td>Y</td>\n",
              "      <td>6000.0</td>\n",
              "    </tr>\n",
              "  </tbody>\n",
              "</table>\n",
              "</div>\n",
              "      <button class=\"colab-df-convert\" onclick=\"convertToInteractive('df-996aa86b-47db-4b84-81a1-f9c1e22e39f1')\"\n",
              "              title=\"Convert this dataframe to an interactive table.\"\n",
              "              style=\"display:none;\">\n",
              "        \n",
              "  <svg xmlns=\"http://www.w3.org/2000/svg\" height=\"24px\"viewBox=\"0 0 24 24\"\n",
              "       width=\"24px\">\n",
              "    <path d=\"M0 0h24v24H0V0z\" fill=\"none\"/>\n",
              "    <path d=\"M18.56 5.44l.94 2.06.94-2.06 2.06-.94-2.06-.94-.94-2.06-.94 2.06-2.06.94zm-11 1L8.5 8.5l.94-2.06 2.06-.94-2.06-.94L8.5 2.5l-.94 2.06-2.06.94zm10 10l.94 2.06.94-2.06 2.06-.94-2.06-.94-.94-2.06-.94 2.06-2.06.94z\"/><path d=\"M17.41 7.96l-1.37-1.37c-.4-.4-.92-.59-1.43-.59-.52 0-1.04.2-1.43.59L10.3 9.45l-7.72 7.72c-.78.78-.78 2.05 0 2.83L4 21.41c.39.39.9.59 1.41.59.51 0 1.02-.2 1.41-.59l7.78-7.78 2.81-2.81c.8-.78.8-2.07 0-2.86zM5.41 20L4 18.59l7.72-7.72 1.47 1.35L5.41 20z\"/>\n",
              "  </svg>\n",
              "      </button>\n",
              "      \n",
              "  <style>\n",
              "    .colab-df-container {\n",
              "      display:flex;\n",
              "      flex-wrap:wrap;\n",
              "      gap: 12px;\n",
              "    }\n",
              "\n",
              "    .colab-df-convert {\n",
              "      background-color: #E8F0FE;\n",
              "      border: none;\n",
              "      border-radius: 50%;\n",
              "      cursor: pointer;\n",
              "      display: none;\n",
              "      fill: #1967D2;\n",
              "      height: 32px;\n",
              "      padding: 0 0 0 0;\n",
              "      width: 32px;\n",
              "    }\n",
              "\n",
              "    .colab-df-convert:hover {\n",
              "      background-color: #E2EBFA;\n",
              "      box-shadow: 0px 1px 2px rgba(60, 64, 67, 0.3), 0px 1px 3px 1px rgba(60, 64, 67, 0.15);\n",
              "      fill: #174EA6;\n",
              "    }\n",
              "\n",
              "    [theme=dark] .colab-df-convert {\n",
              "      background-color: #3B4455;\n",
              "      fill: #D2E3FC;\n",
              "    }\n",
              "\n",
              "    [theme=dark] .colab-df-convert:hover {\n",
              "      background-color: #434B5C;\n",
              "      box-shadow: 0px 1px 3px 1px rgba(0, 0, 0, 0.15);\n",
              "      filter: drop-shadow(0px 1px 2px rgba(0, 0, 0, 0.3));\n",
              "      fill: #FFFFFF;\n",
              "    }\n",
              "  </style>\n",
              "\n",
              "      <script>\n",
              "        const buttonEl =\n",
              "          document.querySelector('#df-996aa86b-47db-4b84-81a1-f9c1e22e39f1 button.colab-df-convert');\n",
              "        buttonEl.style.display =\n",
              "          google.colab.kernel.accessAllowed ? 'block' : 'none';\n",
              "\n",
              "        async function convertToInteractive(key) {\n",
              "          const element = document.querySelector('#df-996aa86b-47db-4b84-81a1-f9c1e22e39f1');\n",
              "          const dataTable =\n",
              "            await google.colab.kernel.invokeFunction('convertToInteractive',\n",
              "                                                     [key], {});\n",
              "          if (!dataTable) return;\n",
              "\n",
              "          const docLinkHtml = 'Like what you see? Visit the ' +\n",
              "            '<a target=\"_blank\" href=https://colab.research.google.com/notebooks/data_table.ipynb>data table notebook</a>'\n",
              "            + ' to learn more about interactive tables.';\n",
              "          element.innerHTML = '';\n",
              "          dataTable['output_type'] = 'display_data';\n",
              "          await google.colab.output.renderOutput(dataTable, element);\n",
              "          const docLink = document.createElement('div');\n",
              "          docLink.innerHTML = docLinkHtml;\n",
              "          element.appendChild(docLink);\n",
              "        }\n",
              "      </script>\n",
              "    </div>\n",
              "  </div>\n",
              "  "
            ],
            "text/plain": [
              "    Loan_ID Gender Married  ... Property_Area Loan_Status Total_Income\n",
              "0  LP001002   Male      No  ...         Urban           Y       5849.0\n",
              "1  LP001003   Male     Yes  ...         Rural           N       6091.0\n",
              "2  LP001005   Male     Yes  ...         Urban           Y       3000.0\n",
              "3  LP001006   Male     Yes  ...         Urban           Y       4941.0\n",
              "4  LP001008   Male      No  ...         Urban           Y       6000.0\n",
              "\n",
              "[5 rows x 14 columns]"
            ]
          },
          "metadata": {},
          "execution_count": 130
        }
      ]
    },
    {
      "cell_type": "code",
      "source": [
        "col=['Loan_ID','ApplicantIncome','CoapplicantIncome']\n",
        "for c in col:\n",
        "  del test_data[c]\n",
        "  del Loan_data[c]\n",
        "\n",
        "from sklearn.preprocessing import LabelEncoder\n",
        "cols = ['Gender',\"Married\",\"Education\",'Self_Employed',\"Property_Area\",\"Dependents\",\"Loan_Status\"]\n",
        "le = LabelEncoder()\n",
        "for col in cols:\n",
        "    Loan_data[col] = le.fit_transform(Loan_data[col])\n",
        "print(Loan_data.head(10))"
      ],
      "metadata": {
        "colab": {
          "base_uri": "https://localhost:8080/"
        },
        "id": "hlkyRuuGN1CO",
        "outputId": "d30092d9-717d-468f-a60b-70b176503654"
      },
      "execution_count": 131,
      "outputs": [
        {
          "output_type": "stream",
          "name": "stdout",
          "text": [
            "   Gender  Married  Dependents  ...  Property_Area  Loan_Status  Total_Income\n",
            "0       1        0           0  ...              2            1        5849.0\n",
            "1       1        1           1  ...              0            0        6091.0\n",
            "2       1        1           0  ...              2            1        3000.0\n",
            "3       1        1           0  ...              2            1        4941.0\n",
            "4       1        0           0  ...              2            1        6000.0\n",
            "5       1        1           2  ...              2            1        9613.0\n",
            "6       1        1           0  ...              2            1        3849.0\n",
            "7       1        1           3  ...              1            0        5540.0\n",
            "8       1        1           2  ...              2            1        5532.0\n",
            "9       1        1           1  ...              1            0       23809.0\n",
            "\n",
            "[10 rows x 11 columns]\n"
          ]
        }
      ]
    },
    {
      "cell_type": "code",
      "source": [
        "from sklearn.preprocessing import LabelEncoder\n",
        "cols = ['Gender',\"Married\",\"Education\",'Self_Employed',\"Property_Area\",\"Dependents\"]\n",
        "le = LabelEncoder()\n",
        "for col in cols:\n",
        "    test_data[col] = le.fit_transform(test_data[col])\n",
        "print(test_data.head(10))"
      ],
      "metadata": {
        "colab": {
          "base_uri": "https://localhost:8080/"
        },
        "id": "pUpOFSiBe7Cq",
        "outputId": "c20823ec-6c1a-42b4-9783-f21aa6fa84dd"
      },
      "execution_count": 132,
      "outputs": [
        {
          "output_type": "stream",
          "name": "stdout",
          "text": [
            "   Gender  Married  Dependents  ...  Credit_History  Property_Area  Total_Income\n",
            "0       1        1           0  ...        1.000000              2          5720\n",
            "1       1        1           1  ...        1.000000              2          4576\n",
            "2       1        1           2  ...        1.000000              2          6800\n",
            "3       1        1           2  ...        0.825444              2          4886\n",
            "4       1        0           0  ...        1.000000              2          3276\n",
            "5       1        1           0  ...        1.000000              2          5587\n",
            "6       0        0           1  ...        1.000000              1          2226\n",
            "7       1        1           2  ...        0.000000              0          3881\n",
            "8       1        1           2  ...        1.000000              2         13633\n",
            "9       1        0           0  ...        1.000000              1          4800\n",
            "\n",
            "[10 rows x 10 columns]\n"
          ]
        }
      ]
    },
    {
      "cell_type": "markdown",
      "source": [
        "### Hypothesis\n",
        "  f(x<sub>1</sub>, x<sub>2</sub>, x<sub>3</sub>, x<sub>4</sub>, x<sub>5</sub>) = w<sub>0</sub> + w<sub>1</sub>x<sub>1</sub>+ w<sub>2</sub>x<sub>2</sub>+ w<sub>3</sub>x<sub>3</sub>+ w<sub>4</sub>4<sub>0</sub>+ w<sub>5</sub>x<sub>5</sub>+ w<sub>6</sub>x<sub>6</sub>+ w<sub>7</sub>x<sub>7</sub>\n",
        "\n",
        "\n",
        "\n"
      ],
      "metadata": {
        "id": "tuR5v-9TMCjA"
      }
    },
    {
      "cell_type": "code",
      "source": [
        "data_X,data_Y=Loan_data[['Total_Income','Gender','Married','Dependents','Education','Self_Employed',\"Property_Area\",\"Credit_History\",\"Loan_Amount_Term\"]].values, Loan_data['LoanAmount'].values\n",
        "test_X,test_Y=test_data[['Total_Income','Gender','Married','Dependents','Education','Self_Employed',\"Property_Area\",\"Credit_History\",\"Loan_Amount_Term\"]].values, test_data['LoanAmount'].values\n",
        "# ."
      ],
      "metadata": {
        "id": "JWyi3d4b9IFa"
      },
      "execution_count": 133,
      "outputs": []
    },
    {
      "cell_type": "code",
      "source": [
        "model=linear_model.LinearRegression()\n",
        "model.fit(data_X,data_Y)"
      ],
      "metadata": {
        "colab": {
          "base_uri": "https://localhost:8080/"
        },
        "id": "73I8iVPX95IL",
        "outputId": "c18d8333-8450-46e1-beea-e7b58e5352a3"
      },
      "execution_count": 134,
      "outputs": [
        {
          "output_type": "execute_result",
          "data": {
            "text/plain": [
              "LinearRegression()"
            ]
          },
          "metadata": {},
          "execution_count": 134
        }
      ]
    },
    {
      "cell_type": "code",
      "source": [
        "pridicted_Y=model.predict(test_X)\n",
        "print(pridicted_Y.head(20))\n",
        "print(\"Square mean error is :\",mean_squared_error(test_Y,pridicted_Y))"
      ],
      "metadata": {
        "id": "c5PE6chmCgX5",
        "colab": {
          "base_uri": "https://localhost:8080/"
        },
        "outputId": "abb9fb24-3080-426a-847f-d0a3b0d24b0a"
      },
      "execution_count": 135,
      "outputs": [
        {
          "output_type": "stream",
          "name": "stdout",
          "text": [
            "[137.34634987 134.34464523 157.29301315 142.67397199  90.26719364\n",
            " 132.69789438  87.36043817 128.97369242 195.92572583 106.11093761\n",
            "  88.84178882 131.70435592 108.43422836 203.52685795 115.11338182\n",
            " 129.26797874 162.67873189 146.55038143 225.35161375  99.62328102\n",
            " 111.35012134  72.76031938 109.91008998  89.30408448 168.62820693\n",
            " 273.64600931 148.27542767 179.95439655 132.98500677  99.79030034\n",
            "  83.48938013 159.37333369 122.04007654 135.58192985 126.25901186\n",
            " 108.89754377 171.55149832 143.39541239 135.87629548 122.98528984\n",
            " 142.94780555 103.13749308 111.68842201 154.00766889 103.30700068\n",
            " 154.23494519 121.94884841 101.93488674 155.80275778 174.75558075\n",
            " 130.87744432 133.43352768 153.86362216 123.2957666  130.43265646\n",
            " 101.71409717 102.41508046 143.08441471 154.64703227 130.15881059\n",
            " 114.47759251 160.72371202 129.06563998 111.74313899 130.54170532\n",
            " 147.457655   119.55712673 124.65318905 156.4415578  160.48342002\n",
            " 104.2032563  118.28008978 109.18529825 158.80246585 146.81501963\n",
            " 133.8645958  136.08274776 148.1089339  160.71327017 149.79745577\n",
            " 149.44694324 669.54047779 144.95324645 166.57597761 111.42062348\n",
            " 189.43182176 135.55881518 107.51635719 121.20351962 122.23518929\n",
            " 154.92404261 223.07014125 156.07492585 143.63930531 157.40988308\n",
            " 158.31575204 157.12800762 149.38387773 185.59628024 167.60498514\n",
            " 122.29682621 124.82230914 129.14384387  98.01786667 118.50837339\n",
            " 128.88887013 106.38326106 153.68759868 132.0478732  123.75949777\n",
            " 126.84094893 128.8272288  101.38848285 152.94994516 170.21268611\n",
            " 165.91847065  77.95726846 140.0093604  109.9121033  146.45921931\n",
            " 103.86945552 148.75456495 148.5434599  157.41002516 172.10598266\n",
            " 119.85188752 130.60743806 162.68643678  82.44659092 128.05915068\n",
            " 128.73998673 114.12193697 155.87781012 108.76526625  78.37717931\n",
            " 126.08179937 147.77474454 145.3445011  119.20467669 128.18762211\n",
            " 125.14964696 151.807995   153.0959321  355.20248844 167.50805296\n",
            " 167.76246037  94.36868388 152.16058819 145.24955413 125.25052777\n",
            " 136.6537663  125.93540644 126.51910643 122.21602863 150.50998081\n",
            " 104.64407391 181.47168396 151.34665114 154.05710105 147.54176765\n",
            " 152.76196484 107.46443406 122.80807735 104.12869567 122.68280016\n",
            "  87.3361296  101.71737337 141.11404152 146.91452462 130.01947529\n",
            " 113.7598093  132.878061   141.73540934 104.66950739 120.19912095\n",
            " 186.49952622 135.07668325 105.87484278 152.61341603 228.81785509\n",
            " 159.77647629 153.45976502 138.47766956 163.55886539 192.77957615\n",
            " 117.27930968 138.19194744 179.63198015 187.51474165 204.33634865\n",
            " 103.71048065 111.250741   150.6706652  140.72685386 200.96362024\n",
            " 135.87629548 140.87518721 114.44926122 130.59757728 138.36909518\n",
            " 193.71293682 122.12025956 126.65680307 135.27622469 102.96276887\n",
            " 136.13146538 161.43752991 135.21778618 107.52157601 125.77180539\n",
            "  93.25982295 148.31054901 167.43906383 131.97416919 142.25084518\n",
            " 110.36473979  84.8741424  178.62642698 169.70808929 144.43805231\n",
            " 126.78008132 130.38297561 126.46222551 121.07129598 142.60586757\n",
            "  94.66981798 126.56720749 163.11197952 127.80582321 136.59205579\n",
            " 310.55564223 135.99186885 101.77457723 143.53222228 118.9393677\n",
            " 119.08862616 137.56744502 253.58288187 122.15036459 127.19177057\n",
            "  94.64357167 139.74707032 130.79968087 134.90318222  80.6308656\n",
            " 125.86729392 171.25499862 170.32328293 124.13254397  89.50924754\n",
            " 153.80752179 120.13245427 116.01035198 143.69388071 135.22300499\n",
            " 110.74920586 126.27940039 151.99334747 153.34667993 138.77022486\n",
            " 141.73940007 132.29442971 120.13659364 252.45018952 144.80836155\n",
            " 137.08486535 134.67444971 131.55047577 164.55800804 115.0234092\n",
            " 122.64419435 150.25860066 280.76403193 156.78898974 106.86345478\n",
            " 147.71381995 143.35616477 102.58966622 135.79323541 308.62171462\n",
            " 116.43091596 140.00180889 117.79703735 142.57296963 267.10312048\n",
            " 166.50485985 124.49357584 136.68185753 118.18514281 194.11148395\n",
            " 141.03948088 151.12139554  98.43164966 121.95399116 117.89157372\n",
            " 127.20110932 133.80544494 102.56917607 118.23628221 144.846886\n",
            " 168.01574163 148.36185289 209.87904646 124.43102092 122.80200412\n",
            " 110.2828261  182.03141266 128.07020908 159.87592534 162.15858685\n",
            " 120.7354617  160.28585522  79.71783033 151.62718999  97.07779124\n",
            " 138.94818976 129.7466013  114.6851474  109.96587134 124.64184139\n",
            " 139.71993074 100.04384578 108.87946094 251.50856118 142.56753756\n",
            "  84.050035   113.21719322 149.13353368 194.5396534  143.05850199\n",
            " 143.92359836 185.44218243 128.42416179 128.92739459 124.0887209\n",
            " 109.90879072  99.06331814 122.93820388 148.450685   135.35862961\n",
            " 144.92790606 162.67888259 110.26414113 135.3000517  140.83479372\n",
            " 174.92500634 143.48643069  87.12359815 127.10212116 127.15482132\n",
            " 179.88102493 221.2864014  145.105175   169.95842471 122.16001552\n",
            " 178.63876376 143.21297466  99.0538987  122.59687342 135.26166932\n",
            " 187.33282112 137.36745074 151.66923933 130.77407793 124.41802471\n",
            " 158.43961282 148.99943335]\n",
            "Square mean error is : 2661.40319892452\n"
          ]
        }
      ]
    },
    {
      "cell_type": "code",
      "source": [
        "print(\"Weights: \",model.coef_)\n",
        "print(\"Intercepts: \",model.intercept_)\n",
        "wt=np.array([list(model.coef_)])\n",
        "print(wt)\n",
        "print(wt.shape)"
      ],
      "metadata": {
        "colab": {
          "base_uri": "https://localhost:8080/"
        },
        "id": "PlEsVoYBHcZm",
        "outputId": "70639202-a384-4857-f7a2-2f5f535fb6b4"
      },
      "execution_count": 136,
      "outputs": [
        {
          "output_type": "stream",
          "name": "stdout",
          "text": [
            "Weights:  [ 7.70489090e-03  4.73080081e+00  1.34827025e+01  5.81269055e+00\n",
            " -1.47657004e+01  1.11419954e+01 -4.10149024e+00 -7.33975748e-01\n",
            "  1.16790057e-01]\n",
            "Intercepts:  41.953406316782534\n",
            "[[ 7.70489090e-03  4.73080081e+00  1.34827025e+01  5.81269055e+00\n",
            "  -1.47657004e+01  1.11419954e+01 -4.10149024e+00 -7.33975748e-01\n",
            "   1.16790057e-01]]\n",
            "(1, 9)\n"
          ]
        }
      ]
    },
    {
      "cell_type": "code",
      "source": [
        "# plt.scatter(data_X.reshape(-1, 1),data_Y.reshape(-1, 1))\n",
        "# plt.plot(data_X.reshape(-1,1),pridicted_Y)\n",
        "# plt.show()\n",
        "income=int(input(\"Enter Total income: \"))\n",
        "g=int(input(\"Enter Gender(1-> Male ;0-> Female ): \"))\n",
        "m=int(input(\"Enter if Married (1-> yes ;0-> No): \"))\n",
        "d=int(input(\"Enter number of dependents: \"))\n",
        "e=int(input(\"Enter if educated(0-> graduated ; 1 -> not-graduated): \"))\n",
        "se=int(input(\"Enter if self emplyed (1-> yes ;0-> No): \"))\n",
        "p=int(input(\"Emter residence type(0-> Rural ;1->semiurban ;2-> Urban ): \"))\n",
        "c=int(input(\"Enter Credit history (1-> yes ; 0-> no): \"))\n",
        "lt=int(input(\"Enter Loan term amount (number): \"))\n",
        "var=np.array([1,income,g,m,d,e,se,p,c,lt])\n",
        "print(var.shape)\n",
        "print(var)"
      ],
      "metadata": {
        "id": "ku9jeFVYIP2H"
      },
      "execution_count": null,
      "outputs": []
    },
    {
      "cell_type": "code",
      "source": [
        "print(np.matmul(wt,var))"
      ],
      "metadata": {
        "id": "EZHUBvpWiNvn"
      },
      "execution_count": null,
      "outputs": []
    },
    {
      "cell_type": "markdown",
      "source": [
        "reference: https://medium.com/analytics-vidhya/simple-linear-regression-with-example-using-numpy-e7b984f0d15e\n",
        "\n",
        "https://github.com/ParthS007/Loan-Approval-Prediction/issues"
      ],
      "metadata": {
        "id": "09EDvl0mps-j"
      }
    }
  ]
}